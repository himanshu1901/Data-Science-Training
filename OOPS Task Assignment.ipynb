{
 "cells": [
  {
   "cell_type": "markdown",
   "id": "a2098cd4",
   "metadata": {},
   "source": [
    "Q1, Create a vehicle class with an init method having instance variables as name_of_vehicle, max_speed\n",
    "and average_of_vehicle."
   ]
  },
  {
   "cell_type": "code",
   "execution_count": 53,
   "id": "3cac00bd",
   "metadata": {},
   "outputs": [],
   "source": [
    "class vehicle:\n",
    "    def __init__(self, name_of_vehicle, max_speed, average_of_Vehicle):\n",
    "        self.name_of_vehicle = name_of_vehicle\n",
    "        self.max_speed = max_speed\n",
    "        self.average_of_Vehicle = average_of_Vehicle\n",
    "    \n",
    "    def testing_truck(self):\n",
    "        print(\"this truck runs daily from Delhi to Agra\")"
   ]
  },
  {
   "cell_type": "code",
   "execution_count": 54,
   "id": "ee1d8605",
   "metadata": {},
   "outputs": [],
   "source": [
    "force_gorkha = vehicle(\"tata\",\"100km/hr\",\"12km/l\")"
   ]
  },
  {
   "cell_type": "code",
   "execution_count": 55,
   "id": "a103a3da",
   "metadata": {},
   "outputs": [
    {
     "data": {
      "text/plain": [
       "'tata'"
      ]
     },
     "execution_count": 55,
     "metadata": {},
     "output_type": "execute_result"
    }
   ],
   "source": [
    "force_gorkha.name_of_vehicle"
   ]
  },
  {
   "cell_type": "markdown",
   "id": "2c513814",
   "metadata": {},
   "source": [
    "Q2. Create a child class car from the vehicle class created in Que 1, which will inherit the vehicle class.\n",
    "Create a method named seating_capacity which takes capacity as an argument and returns the name of\n",
    "the vehicle and its seating capacity."
   ]
  },
  {
   "cell_type": "code",
   "execution_count": 56,
   "id": "8b1e51fd",
   "metadata": {},
   "outputs": [],
   "source": [
    "class car(vehicle):\n",
    "    def __init__(self, name_of_vehicle, max_speed, average_of_vehicle, name):\n",
    "        super().__init__(name_of_vehicle, max_speed, average_of_vehicle)\n",
    "        self.name = name\n",
    "    \n",
    "    def seating_capacity(self, capacity):\n",
    "        print(f\"{self.name} has a seating capacity of {capacity} passengers.\")\n"
   ]
  },
  {
   "cell_type": "code",
   "execution_count": 57,
   "id": "8eb04986",
   "metadata": {},
   "outputs": [],
   "source": [
    "Lux_car = car(\"Audi\",\"150km/hr\",\"10km/l\",\"Q7\")"
   ]
  },
  {
   "cell_type": "code",
   "execution_count": 61,
   "id": "14e21200",
   "metadata": {},
   "outputs": [
    {
     "name": "stdout",
     "output_type": "stream",
     "text": [
      "Q7 has a seating capacity of 5 passengers.\n"
     ]
    }
   ],
   "source": [
    "Lux_car.seating_capacity(5)"
   ]
  },
  {
   "cell_type": "markdown",
   "id": "02800609",
   "metadata": {},
   "source": [
    "Q3. What is multiple inheritance? Write a python code to demonstrate multiple inheritance."
   ]
  },
  {
   "cell_type": "markdown",
   "id": "617f26a0",
   "metadata": {},
   "source": [
    "Answer: Multiple Inheritance is where a class can inherit methods and attributes from multiple parent class. lets understand using the below code:"
   ]
  },
  {
   "cell_type": "code",
   "execution_count": 69,
   "id": "fcc52b16",
   "metadata": {},
   "outputs": [],
   "source": [
    "class cycle:\n",
    "    def riding_quality():\n",
    "        print(\"Cycle runs smoothly on the track\")"
   ]
  },
  {
   "cell_type": "code",
   "execution_count": 70,
   "id": "37dc4ecc",
   "metadata": {},
   "outputs": [],
   "source": [
    "class scooter:\n",
    "    def riding_average():\n",
    "        print(\"scooter has a better milaege as compared to other vehicles\")"
   ]
  },
  {
   "cell_type": "code",
   "execution_count": 72,
   "id": "77d3e946",
   "metadata": {},
   "outputs": [],
   "source": [
    "class bike(cycle, scooter):\n",
    "    pass"
   ]
  },
  {
   "cell_type": "markdown",
   "id": "d8397eab",
   "metadata": {},
   "source": [
    "Now, if we see, the class bike has the attributes of the cycle and scooter class due to multiple inheritance."
   ]
  },
  {
   "cell_type": "markdown",
   "id": "34426173",
   "metadata": {},
   "source": [
    "Q4. What are getter and setter in python? Create a class and create a getter and a setter method in this\n",
    "class."
   ]
  },
  {
   "cell_type": "markdown",
   "id": "ab7c4216",
   "metadata": {},
   "source": [
    "Answer: \n",
    "\n",
    "Setter: Setter is used to set values or mutate values for a public or private variables. \n"
   ]
  },
  {
   "cell_type": "markdown",
   "id": "68846e46",
   "metadata": {},
   "source": [
    "Getter: Getter gets you the access of the private or public attributes of a class in a controlled manner as we can see in the below code. It is applied using @property keyword just above the function where we create a function to pull the Values."
   ]
  },
  {
   "cell_type": "code",
   "execution_count": 78,
   "id": "204de2c9",
   "metadata": {},
   "outputs": [],
   "source": [
    "class mobile:\n",
    "    def __init__(self, name, mobile_price, color):\n",
    "        self.name = name\n",
    "        self.__mobile_price = mobile_price\n",
    "        self.color = color\n",
    "    \n",
    "    @property\n",
    "    def mobile_price_access(self):\n",
    "        return self.__mobile_price\n",
    "    \n",
    "    @mobile_price_access.setter\n",
    "    def mobile_price_set(self, price):\n",
    "        self.__mobile_price = price\n",
    "        "
   ]
  },
  {
   "cell_type": "code",
   "execution_count": 80,
   "id": "181c95ea",
   "metadata": {},
   "outputs": [],
   "source": [
    "phone = mobile(\"samsung\", 50000, \"Blue\")"
   ]
  },
  {
   "cell_type": "code",
   "execution_count": 83,
   "id": "35a43a29",
   "metadata": {},
   "outputs": [
    {
     "data": {
      "text/plain": [
       "'samsung'"
      ]
     },
     "execution_count": 83,
     "metadata": {},
     "output_type": "execute_result"
    }
   ],
   "source": [
    "phone.name"
   ]
  },
  {
   "cell_type": "code",
   "execution_count": 85,
   "id": "a9e55bfe",
   "metadata": {},
   "outputs": [
    {
     "ename": "AttributeError",
     "evalue": "'mobile' object has no attribute '__mobile_price'",
     "output_type": "error",
     "traceback": [
      "\u001b[1;31m---------------------------------------------------------------------------\u001b[0m",
      "\u001b[1;31mAttributeError\u001b[0m                            Traceback (most recent call last)",
      "\u001b[1;32m~\\AppData\\Local\\Temp\\ipykernel_21424\\3170364779.py\u001b[0m in \u001b[0;36m<module>\u001b[1;34m\u001b[0m\n\u001b[1;32m----> 1\u001b[1;33m \u001b[0mphone\u001b[0m\u001b[1;33m.\u001b[0m\u001b[0m__mobile_price\u001b[0m\u001b[1;33m\u001b[0m\u001b[1;33m\u001b[0m\u001b[0m\n\u001b[0m",
      "\u001b[1;31mAttributeError\u001b[0m: 'mobile' object has no attribute '__mobile_price'"
     ]
    }
   ],
   "source": [
    "phone.__mobile_price\n",
    "#this will show an error below as we are tring to access a private variable"
   ]
  },
  {
   "cell_type": "code",
   "execution_count": 87,
   "id": "5f9f3718",
   "metadata": {},
   "outputs": [
    {
     "data": {
      "text/plain": [
       "'Blue'"
      ]
     },
     "execution_count": 87,
     "metadata": {},
     "output_type": "execute_result"
    }
   ],
   "source": [
    "phone.color"
   ]
  },
  {
   "cell_type": "code",
   "execution_count": 89,
   "id": "b796c338",
   "metadata": {},
   "outputs": [
    {
     "data": {
      "text/plain": [
       "50000"
      ]
     },
     "execution_count": 89,
     "metadata": {},
     "output_type": "execute_result"
    }
   ],
   "source": [
    "phone.mobile_price_access"
   ]
  },
  {
   "cell_type": "code",
   "execution_count": 93,
   "id": "6bfcf962",
   "metadata": {},
   "outputs": [],
   "source": [
    "phone.mobile_price_set = 49000"
   ]
  },
  {
   "cell_type": "code",
   "execution_count": 94,
   "id": "a0f88f1f",
   "metadata": {},
   "outputs": [
    {
     "data": {
      "text/plain": [
       "49000"
      ]
     },
     "execution_count": 94,
     "metadata": {},
     "output_type": "execute_result"
    }
   ],
   "source": [
    "phone.mobile_price_access"
   ]
  },
  {
   "cell_type": "markdown",
   "id": "856e31aa",
   "metadata": {},
   "source": [
    "Q5.What is method overriding in python? Write a python code to demonstrate method overriding."
   ]
  },
  {
   "cell_type": "markdown",
   "id": "f23d04ae",
   "metadata": {},
   "source": [
    "Answer: Method overriding is something where a class provides specific implementation for a method that is already defined in its superclass. Lets understand through the below code:"
   ]
  },
  {
   "cell_type": "code",
   "execution_count": 95,
   "id": "15f6ff39",
   "metadata": {},
   "outputs": [],
   "source": [
    "class grandfather:\n",
    "    def money():\n",
    "        print(\"save all the money\")"
   ]
  },
  {
   "cell_type": "code",
   "execution_count": 97,
   "id": "9905dfd4",
   "metadata": {},
   "outputs": [],
   "source": [
    "class father(grandfather):\n",
    "    def money():\n",
    "        print(\"Invest all the money\")"
   ]
  },
  {
   "cell_type": "code",
   "execution_count": 99,
   "id": "b3d212ea",
   "metadata": {},
   "outputs": [],
   "source": [
    "class son(father):\n",
    "    def money():\n",
    "        print(\"Lets have fun with all the money\")"
   ]
  },
  {
   "cell_type": "code",
   "execution_count": 101,
   "id": "406baf4d",
   "metadata": {},
   "outputs": [
    {
     "name": "stdout",
     "output_type": "stream",
     "text": [
      "Invest all the money\n"
     ]
    }
   ],
   "source": [
    "father.money()"
   ]
  },
  {
   "cell_type": "code",
   "execution_count": 104,
   "id": "83699e31",
   "metadata": {},
   "outputs": [
    {
     "name": "stdout",
     "output_type": "stream",
     "text": [
      "Lets have fun with all the money\n"
     ]
    }
   ],
   "source": [
    "son.money()"
   ]
  },
  {
   "cell_type": "code",
   "execution_count": 106,
   "id": "d7254984",
   "metadata": {},
   "outputs": [
    {
     "name": "stdout",
     "output_type": "stream",
     "text": [
      "save all the money\n"
     ]
    }
   ],
   "source": [
    "grandfather.money()"
   ]
  },
  {
   "cell_type": "markdown",
   "id": "01e13734",
   "metadata": {},
   "source": [
    "So, if we observe, we have a multilevel inheritance in the above 3 classes but they are overriding the actions what function money does."
   ]
  }
 ],
 "metadata": {
  "kernelspec": {
   "display_name": "Python 3 (ipykernel)",
   "language": "python",
   "name": "python3"
  },
  "language_info": {
   "codemirror_mode": {
    "name": "ipython",
    "version": 3
   },
   "file_extension": ".py",
   "mimetype": "text/x-python",
   "name": "python",
   "nbconvert_exporter": "python",
   "pygments_lexer": "ipython3",
   "version": "3.9.13"
  }
 },
 "nbformat": 4,
 "nbformat_minor": 5
}
