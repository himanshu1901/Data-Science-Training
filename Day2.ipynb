{
 "cells": [
  {
   "cell_type": "code",
   "execution_count": 5,
   "id": "545f62ab-c744-49ae-a91e-5f6f1ed0f220",
   "metadata": {},
   "outputs": [
    {
     "name": "stdin",
     "output_type": "stream",
     "text": [
      "Enter your Age:  17\n"
     ]
    },
    {
     "name": "stdout",
     "output_type": "stream",
     "text": [
      "You cannot vote as of now\n"
     ]
    }
   ],
   "source": [
    "age = int(input(\"Enter your Age: \"))\n",
    "if age>=18:\n",
    "    print(\"you can vote\")\n",
    "else:\n",
    "    print(\"You cannot vote as of now\")"
   ]
  },
  {
   "cell_type": "code",
   "execution_count": 20,
   "id": "30c5ae85-fc7c-42fd-bce6-73b4bba39e77",
   "metadata": {},
   "outputs": [
    {
     "name": "stdin",
     "output_type": "stream",
     "text": [
      "Enter you age:  59\n"
     ]
    },
    {
     "name": "stdout",
     "output_type": "stream",
     "text": [
      "Alright\n"
     ]
    }
   ],
   "source": [
    "num = int(input(\"Enter you age: \"))\n",
    "if num >= 18 and num <=45:\n",
    "    print(\"You are young blood\")\n",
    "else:\n",
    "    print(\"Alright\")"
   ]
  },
  {
   "cell_type": "code",
   "execution_count": 27,
   "id": "7aba23af-7950-438c-b004-0e9267e4b4a5",
   "metadata": {},
   "outputs": [
    {
     "name": "stdin",
     "output_type": "stream",
     "text": [
      "Enter the price:  900\n"
     ]
    },
    {
     "name": "stdout",
     "output_type": "stream",
     "text": [
      "Final price after discount is 630.0\n"
     ]
    }
   ],
   "source": [
    "product_price = int(input(\"Enter the price: \"))\n",
    "if product_price>1000:\n",
    "    print(\"Final price after discount is {}\".format(product_price*0.8))\n",
    "else:\n",
    "    product_price<=1000\n",
    "    print(\"Final price after discount is {}\".format(product_price*0.7))"
   ]
  },
  {
   "cell_type": "code",
   "execution_count": 32,
   "id": "e8ba3519-ed29-4687-97a0-bfbcad83c4ce",
   "metadata": {},
   "outputs": [
    {
     "name": "stdout",
     "output_type": "stream",
     "text": [
      "1000\n",
      "900\n",
      "800\n",
      "700\n",
      "600\n",
      "500\n",
      "400\n",
      "300\n",
      "200\n",
      "100\n",
      "load more money\n"
     ]
    }
   ],
   "source": [
    "total_amount = 1000\n",
    "while total_amount != 0:\n",
    "    print(total_amount)\n",
    "    total_amount = total_amount-100\n",
    "else:\n",
    "    print(\"load more money\")"
   ]
  },
  {
   "cell_type": "code",
   "execution_count": 9,
   "id": "53bea912-f7f0-4b8f-b9be-df454fbd25de",
   "metadata": {},
   "outputs": [
    {
     "name": "stdout",
     "output_type": "stream",
     "text": [
      "Japan\n",
      "Unites States\n",
      "India\n"
     ]
    }
   ],
   "source": [
    "my_list = [\"Japan\", 65,34,54,\"Unites States\",\"India\"]\n",
    "for x in my_list:\n",
    "    if type(x)==str:\n",
    "        print(x)"
   ]
  },
  {
   "cell_type": "code",
   "execution_count": 11,
   "id": "c2348c5f-148f-42ba-a4b7-fbed39037f37",
   "metadata": {},
   "outputs": [
    {
     "name": "stdout",
     "output_type": "stream",
     "text": [
      "India Japan China Singapore Bangladesh "
     ]
    }
   ],
   "source": [
    "countries_in_Asia = [\"India\",\"Japan\",\"China\",\"Singapore\",\"Bangladesh\"]\n",
    "for x in countries_in_Asia:\n",
    "    print(x, end=' ')"
   ]
  },
  {
   "cell_type": "code",
   "execution_count": 20,
   "id": "cf8d4ff7-2d71-4be9-b466-91b899130f1c",
   "metadata": {},
   "outputs": [
    {
     "name": "stdout",
     "output_type": "stream",
     "text": [
      "*\n",
      "**\n",
      "***\n",
      "****\n",
      "*****\n",
      "******\n",
      "*******\n",
      "********\n"
     ]
    }
   ],
   "source": [
    "n=8\n",
    "\n",
    "for i in range(0, n):\n",
    "    for j in range(0,i+1):\n",
    "        print(\"*\",end='')\n",
    "    print(\"\\r\")\n",
    "    "
   ]
  },
  {
   "cell_type": "code",
   "execution_count": null,
   "id": "d2e38f89-228f-41dd-8d09-a8fffd24691e",
   "metadata": {},
   "outputs": [],
   "source": []
  }
 ],
 "metadata": {
  "kernelspec": {
   "display_name": "Python 3 (ipykernel)",
   "language": "python",
   "name": "python3"
  },
  "language_info": {
   "codemirror_mode": {
    "name": "ipython",
    "version": 3
   },
   "file_extension": ".py",
   "mimetype": "text/x-python",
   "name": "python",
   "nbconvert_exporter": "python",
   "pygments_lexer": "ipython3",
   "version": "3.10.8"
  }
 },
 "nbformat": 4,
 "nbformat_minor": 5
}
