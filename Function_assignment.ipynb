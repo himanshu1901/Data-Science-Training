{
 "cells": [
  {
   "cell_type": "markdown",
   "id": "fb0cf3ac-31a9-4d23-94b9-974d1a4932c8",
   "metadata": {},
   "source": [
    "Q1. Which keyword is used to create a function? Create a function to return a list of odd numbers in the range of 1 to 25.\n"
   ]
  },
  {
   "cell_type": "markdown",
   "id": "1d34bcdc-ff2f-4a2d-973a-552a5ce8c99f",
   "metadata": {},
   "source": [
    "Answer 1 - Functions are created using def keyword. These are usually created to simplify the code and increase reusability."
   ]
  },
  {
   "cell_type": "code",
   "execution_count": 2,
   "id": "029bb451-9452-4ac4-a9af-81dac2a6a6f1",
   "metadata": {},
   "outputs": [
    {
     "name": "stdout",
     "output_type": "stream",
     "text": [
      "1\n",
      "3\n",
      "5\n",
      "7\n",
      "9\n",
      "11\n",
      "13\n",
      "15\n",
      "17\n",
      "19\n",
      "21\n",
      "23\n"
     ]
    }
   ],
   "source": [
    "#Answer to Question - 1\n",
    "def odd_numbers(n):\n",
    "    for i in range(n):\n",
    "        if i%2 == 1:\n",
    "            print(i)\n",
    "\n",
    "odd_numbers(25)"
   ]
  },
  {
   "cell_type": "markdown",
   "id": "a7325350-b9ac-4a6f-bcd1-8b3013e70a6d",
   "metadata": {},
   "source": [
    "Q2. Why *args and **kwargs is used in some functions? Create a function each for *args and **kwargs to demonstrate their use.\n"
   ]
  },
  {
   "cell_type": "markdown",
   "id": "656daadd-a3d4-4979-ac92-f41726df58cd",
   "metadata": {},
   "source": [
    "Answer 2 - *args allows us to take multiple arguments in a function. Usually any function which has preset argument limit like def test(a, b), this will only allow two argument, a and b.  If we try to enter any  argument beyond the defined limit, it will throw an error. Also, this is known as non-keyworded which means it will take values in the form of string, integers, tuples, lists etc but not as key value pairs (Dictionary) arguments."
   ]
  },
  {
   "cell_type": "code",
   "execution_count": 4,
   "id": "aa7805ba-dd30-459d-9dac-5e322e0eea31",
   "metadata": {},
   "outputs": [],
   "source": [
    "# Answer to Question 2 - * args\n",
    "def super(*args):\n",
    "    a = []\n",
    "    for i in args:\n",
    "        if type(i) == list:\n",
    "            a.append(i)\n",
    "    \n",
    "    return a"
   ]
  },
  {
   "cell_type": "code",
   "execution_count": 5,
   "id": "5df3fb82-9d35-4351-8ecc-417bd0464bd5",
   "metadata": {},
   "outputs": [
    {
     "data": {
      "text/plain": [
       "[['Himanshu', 'pwskills', 'ineuron']]"
      ]
     },
     "execution_count": 5,
     "metadata": {},
     "output_type": "execute_result"
    }
   ],
   "source": [
    "super(78,45,15,[\"Himanshu\",\"pwskills\",\"ineuron\"],{\"pwskills\":\"Data Science\"})"
   ]
  },
  {
   "cell_type": "markdown",
   "id": "717e0e91-1511-463b-8b08-933ce93cdfcc",
   "metadata": {},
   "source": [
    "** args - **args is also like the *args but the difference is that it accepts key value pairs as arguments. \n",
    "Below is the example for **kwargs : -\n"
   ]
  },
  {
   "cell_type": "code",
   "execution_count": 6,
   "id": "bc8539ff-fe50-4b30-a652-2bd868f447c6",
   "metadata": {},
   "outputs": [
    {
     "name": "stdout",
     "output_type": "stream",
     "text": [
      "{'a': 'Himanshu', 'b': 'Sudhanshu'}\n"
     ]
    }
   ],
   "source": [
    "def training(**kwargs):\n",
    "    return kwargs\n",
    "print(training(a = \"Himanshu\", b = \"Sudhanshu\"))"
   ]
  },
  {
   "cell_type": "markdown",
   "id": "f4b1515a-0b81-4189-a3a1-87e94fa58c5f",
   "metadata": {},
   "source": [
    "Q3. What is an iterator in python? Name the method used to initialise the iterator object and the method used for iteration. Use these methods to print the first five elements of the given list [2, 4, 6, 8, 10, 12, 14, 16,18, 20]."
   ]
  },
  {
   "cell_type": "markdown",
   "id": "4480116b-6d8e-4213-a72f-ad5152cc71a8",
   "metadata": {},
   "source": [
    "Answer - 3 : Answer – Iterators helps iterate a collection of data in for form of list, tuple, sets, dictionary etc. Generally we use for loop to iterate data from any collection of data. Iterator helps a lot for generating functions which are reusable and work dynamically to provide solution to various problems. "
   ]
  },
  {
   "cell_type": "code",
   "execution_count": 8,
   "id": "39fa244b-3885-4908-97a0-88bd84104686",
   "metadata": {},
   "outputs": [
    {
     "name": "stdout",
     "output_type": "stream",
     "text": [
      "2\n",
      "4\n",
      "6\n",
      "8\n",
      "10\n",
      "12\n",
      "14\n",
      "16\n",
      "18\n",
      "20\n"
     ]
    }
   ],
   "source": [
    "# Answer to question 3\n",
    "l = [2, 4, 6, 8, 10, 12, 14, 16,18, 20]\n",
    "for i in l:\n",
    "    print(i)\n"
   ]
  },
  {
   "cell_type": "markdown",
   "id": "63621a8b-a9c3-4b3c-85db-f81cfb599fb8",
   "metadata": {},
   "source": [
    "Q4. What is a generator function in python? Why yield keyword is used? Give an example of a generator function."
   ]
  },
  {
   "cell_type": "markdown",
   "id": "98378a05-f81b-482a-92bd-648cf57e2c1e",
   "metadata": {},
   "source": [
    "Answer - 4 : Generator functions are like normal functions but they have the Yield keyword and an iterator to generate and iterate the value. \n",
    "Yield is used to generate the value based on the given criteria but will not store in the memory. This will be stored in the local state though. However, more memory is consumed if the return statement is used.\n",
    "Below is one of the example of the generator Function and iterated using for loop:\n"
   ]
  },
  {
   "cell_type": "code",
   "execution_count": 10,
   "id": "058570e6-1272-4e65-96d2-b98e09a5b1d2",
   "metadata": {},
   "outputs": [
    {
     "name": "stdout",
     "output_type": "stream",
     "text": [
      "0\n",
      "1\n",
      "1\n",
      "2\n",
      "3\n",
      "5\n",
      "8\n",
      "13\n",
      "21\n",
      "34\n"
     ]
    }
   ],
   "source": [
    "# Answer t0 Question - 4\n",
    "def fib_testing(n):\n",
    "    a,b = 0,1\n",
    "    for i in range(n):\n",
    "        yield a\n",
    "        a,b = b, a+b\n",
    "\n",
    "for i in fib_testing(10):\n",
    "    print(i)\n"
   ]
  },
  {
   "cell_type": "markdown",
   "id": "073ddacf-7bcc-497e-87a1-e1934ef4b04d",
   "metadata": {},
   "source": [
    "Q5. Create a generator function for prime numbers less than 1000. Use the next() method to print the first 20 prime numbers."
   ]
  },
  {
   "cell_type": "code",
   "execution_count": 11,
   "id": "1053d42d-4e8c-4586-8ee6-24dbb43ef94f",
   "metadata": {},
   "outputs": [
    {
     "name": "stdout",
     "output_type": "stream",
     "text": [
      "2\n",
      "3\n",
      "5\n",
      "7\n",
      "11\n",
      "13\n",
      "17\n",
      "19\n",
      "23\n",
      "29\n",
      "31\n",
      "37\n",
      "41\n",
      "43\n",
      "47\n",
      "53\n",
      "59\n",
      "61\n",
      "67\n",
      "71\n"
     ]
    }
   ],
   "source": [
    "# Answer to Question 5\n",
    "def prime_generator():\n",
    "    primes = []\n",
    "    num = 2\n",
    "\n",
    "    while num < 1000:\n",
    "        is_prime = True\n",
    "\n",
    "        for prime in primes:\n",
    "            if num % prime == 0:\n",
    "                is_prime = False\n",
    "                break\n",
    "\n",
    "        if is_prime:\n",
    "            primes.append(num)\n",
    "            yield num\n",
    "\n",
    "        num += 1\n",
    "\n",
    "# below we have created an object as prime_gen\n",
    "prime_gen = prime_generator()\n",
    "\n",
    "# Using the next function below, we have printed the first 20 prime numbers.\n",
    "for _ in range(20):\n",
    "    prime = next(prime_gen)\n",
    "    print(prime)\n"
   ]
  }
 ],
 "metadata": {
  "kernelspec": {
   "display_name": "Python 3 (ipykernel)",
   "language": "python",
   "name": "python3"
  },
  "language_info": {
   "codemirror_mode": {
    "name": "ipython",
    "version": 3
   },
   "file_extension": ".py",
   "mimetype": "text/x-python",
   "name": "python",
   "nbconvert_exporter": "python",
   "pygments_lexer": "ipython3",
   "version": "3.10.8"
  }
 },
 "nbformat": 4,
 "nbformat_minor": 5
}
