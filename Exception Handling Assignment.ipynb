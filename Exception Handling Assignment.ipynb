{
 "cells": [
  {
   "cell_type": "markdown",
   "id": "b40e6263",
   "metadata": {},
   "source": [
    "Q1. What is an Exception in Python? Write the difference between Exceptions and Syntax errors."
   ]
  },
  {
   "cell_type": "markdown",
   "id": "14410208",
   "metadata": {},
   "source": [
    "Answer: An exception is something which disrupts the normal flow of the code. When Python is not able to cope up with any given situation, it raises an exception. It generally represents an error.\n",
    "\n",
    "The difference between Exception and Systax errors is that an exception is something where the code runs but gives an exception due to a situation which disrupts the flow of the code. The exceptions can be handled using exception handling techniques however the Sytax error causes errors which does not allow the code to run at all. Lets understand with the below examples:"
   ]
  },
  {
   "cell_type": "code",
   "execution_count": 2,
   "id": "5b34568d",
   "metadata": {},
   "outputs": [
    {
     "ename": "ZeroDivisionError",
     "evalue": "division by zero",
     "output_type": "error",
     "traceback": [
      "\u001b[1;31m---------------------------------------------------------------------------\u001b[0m",
      "\u001b[1;31mZeroDivisionError\u001b[0m                         Traceback (most recent call last)",
      "\u001b[1;32m~\\AppData\\Local\\Temp\\ipykernel_7852\\4079083289.py\u001b[0m in \u001b[0;36m<module>\u001b[1;34m\u001b[0m\n\u001b[0;32m      1\u001b[0m \u001b[1;31m#example of exception:\u001b[0m\u001b[1;33m\u001b[0m\u001b[1;33m\u001b[0m\u001b[0m\n\u001b[0;32m      2\u001b[0m \u001b[1;33m\u001b[0m\u001b[0m\n\u001b[1;32m----> 3\u001b[1;33m \u001b[0mprint\u001b[0m\u001b[1;33m(\u001b[0m\u001b[1;36m5\u001b[0m\u001b[1;33m/\u001b[0m\u001b[1;36m0\u001b[0m\u001b[1;33m)\u001b[0m\u001b[1;33m\u001b[0m\u001b[1;33m\u001b[0m\u001b[0m\n\u001b[0m\u001b[0;32m      4\u001b[0m \u001b[1;33m\u001b[0m\u001b[0m\n\u001b[0;32m      5\u001b[0m \u001b[1;31m#the above is throwing a ZeroDivisionerror which is an exception and can be handled using exception handling in programs.\u001b[0m\u001b[1;33m\u001b[0m\u001b[1;33m\u001b[0m\u001b[0m\n",
      "\u001b[1;31mZeroDivisionError\u001b[0m: division by zero"
     ]
    }
   ],
   "source": [
    "#example of exception:\n",
    "\n",
    "print(5/0)\n",
    "\n",
    "#the above is throwing a ZeroDivisionerror which is an exception and can be handled using exception handling in programs."
   ]
  },
  {
   "cell_type": "code",
   "execution_count": 4,
   "id": "2ea01d69",
   "metadata": {},
   "outputs": [
    {
     "ename": "SyntaxError",
     "evalue": "unexpected EOF while parsing (1835649781.py, line 3)",
     "output_type": "error",
     "traceback": [
      "\u001b[1;36m  File \u001b[1;32m\"C:\\Users\\apoor\\AppData\\Local\\Temp\\ipykernel_7852\\1835649781.py\"\u001b[1;36m, line \u001b[1;32m3\u001b[0m\n\u001b[1;33m    print(\"let's learn systax errors\"\u001b[0m\n\u001b[1;37m                                     ^\u001b[0m\n\u001b[1;31mSyntaxError\u001b[0m\u001b[1;31m:\u001b[0m unexpected EOF while parsing\n"
     ]
    }
   ],
   "source": [
    "#Below code is throwing an error because I have missed to close the bracket which caused a syntax error and cannot be handled using exception handling.\n",
    "\n",
    "print(\"let's learn systax errors\""
   ]
  },
  {
   "cell_type": "markdown",
   "id": "8900816d",
   "metadata": {},
   "source": [
    "Q2. What happens when an exception is not handled? Explain with an example."
   ]
  },
  {
   "cell_type": "markdown",
   "id": "687d0671",
   "metadata": {},
   "source": [
    "Answer: Whenever an exception is raised by python, it looks for exception handler (try-except block) to handle the error. If there is no handling in place, the program terminates giving the error message which caused the error. See the below example:"
   ]
  },
  {
   "cell_type": "code",
   "execution_count": 6,
   "id": "a7bc463d",
   "metadata": {},
   "outputs": [
    {
     "ename": "ZeroDivisionError",
     "evalue": "division by zero",
     "output_type": "error",
     "traceback": [
      "\u001b[1;31m---------------------------------------------------------------------------\u001b[0m",
      "\u001b[1;31mZeroDivisionError\u001b[0m                         Traceback (most recent call last)",
      "\u001b[1;32m~\\AppData\\Local\\Temp\\ipykernel_7852\\3786861534.py\u001b[0m in \u001b[0;36m<module>\u001b[1;34m\u001b[0m\n\u001b[0;32m      2\u001b[0m \u001b[0ma\u001b[0m \u001b[1;33m=\u001b[0m \u001b[1;36m10\u001b[0m\u001b[1;33m\u001b[0m\u001b[1;33m\u001b[0m\u001b[0m\n\u001b[0;32m      3\u001b[0m \u001b[0mb\u001b[0m \u001b[1;33m=\u001b[0m \u001b[1;36m0\u001b[0m\u001b[1;33m\u001b[0m\u001b[1;33m\u001b[0m\u001b[0m\n\u001b[1;32m----> 4\u001b[1;33m \u001b[0mprint\u001b[0m\u001b[1;33m(\u001b[0m\u001b[0ma\u001b[0m\u001b[1;33m/\u001b[0m\u001b[0mb\u001b[0m\u001b[1;33m)\u001b[0m\u001b[1;33m\u001b[0m\u001b[1;33m\u001b[0m\u001b[0m\n\u001b[0m",
      "\u001b[1;31mZeroDivisionError\u001b[0m: division by zero"
     ]
    }
   ],
   "source": [
    "#below code gives ZeroDivisionError as the exception is not handled:\n",
    "a = 10\n",
    "b = 0\n",
    "print(a/b)"
   ]
  },
  {
   "cell_type": "markdown",
   "id": "023c6b79",
   "metadata": {},
   "source": [
    "Q3. Which python statements are used to catch and handle exceptions? Explain with example."
   ]
  },
  {
   "cell_type": "markdown",
   "id": "4f9b60f7",
   "metadata": {},
   "source": [
    "Answer: The exceptions can be handled using the try-except block. It can also make use of else and finally keywords depending on the sitaution. See below example:"
   ]
  },
  {
   "cell_type": "code",
   "execution_count": 9,
   "id": "cce70510",
   "metadata": {},
   "outputs": [
    {
     "name": "stdout",
     "output_type": "stream",
     "text": [
      "please do not divide with zero. Use and non zero number\n"
     ]
    }
   ],
   "source": [
    "a = 25\n",
    "b = 0\n",
    "\n",
    "try:\n",
    "    print(a/b)\n",
    "\n",
    "except ZeroDivisionError:\n",
    "    print(\"please do not divide with zero. Use and non zero number\")"
   ]
  },
  {
   "cell_type": "markdown",
   "id": "0a3fcfe2",
   "metadata": {},
   "source": [
    "Q4. Explain with an example"
   ]
  },
  {
   "cell_type": "markdown",
   "id": "80f30ebd",
   "metadata": {},
   "source": [
    "a. try and else\n",
    "Answer: This is a part of exception handling. We use Try and else block which runs the code written in the try block first. If everything is fine, the try block will be executed and the programme will get completed. If the try block throws and exception, it will run the else block just like the if else statements. See below for example:"
   ]
  },
  {
   "cell_type": "code",
   "execution_count": 26,
   "id": "48c051cf",
   "metadata": {},
   "outputs": [
    {
     "name": "stdout",
     "output_type": "stream",
     "text": [
      "The element at index 2 is: 30\n",
      "Error: Index 5 is out of range for the given list.\n"
     ]
    }
   ],
   "source": [
    "def getting_element_from_list(lst, index):\n",
    "    try:\n",
    "        element = lst[index]\n",
    "    except IndexError:\n",
    "        print(f\"Error: Index {index} is out of range for the given list.\")\n",
    "    else:\n",
    "        print(f\"The element at index {index} is: {element}\")\n",
    "\n",
    "my_list = [10, 20, 30, 40, 50]\n",
    "\n",
    "getting_element_from_list(my_list, 2)   # Output: The element at index 2 is: 30\n",
    "getting_element_from_list(my_list, 5)   # Output: Error: Index 5 is out of range for the given list.\n"
   ]
  },
  {
   "cell_type": "markdown",
   "id": "eab0fa16",
   "metadata": {},
   "source": [
    "b. finally\n",
    "Answer: Code written under the finally block will get executed no matter whether the exception is handled or not. So, if we can to excute any code or print anything irrespective of the result of the other programmes/codes, we can write that under finally block.\n",
    "\n",
    "See below example:"
   ]
  },
  {
   "cell_type": "code",
   "execution_count": 28,
   "id": "f131d44a",
   "metadata": {},
   "outputs": [],
   "source": [
    "def division_test(a,b):\n",
    "    try:\n",
    "        result = a/b\n",
    "    except ZeroDivisionError:\n",
    "        print(\"Divison by Zero is prohibited\")\n",
    "    else:\n",
    "        print(f'{a} divided by {b} gives {result} as answer')\n",
    "    finally:\n",
    "        print('this code with be executed whatever happens')"
   ]
  },
  {
   "cell_type": "markdown",
   "id": "0c1644ff",
   "metadata": {},
   "source": [
    "c. raise\n",
    "Answer: raise is used when we want to explicitly raise an exception while running a program. This helps programmers to signal the user of the type of error that has occured and will highlight the error. This also inturrupts the normal flow of the program. See the below example:"
   ]
  },
  {
   "cell_type": "code",
   "execution_count": 29,
   "id": "7cdf0774",
   "metadata": {},
   "outputs": [
    {
     "name": "stdout",
     "output_type": "stream",
     "text": [
      "Result: 5.0\n",
      "Error: Division by zero is not allowed.\n"
     ]
    }
   ],
   "source": [
    "def divide_numbers(a, b):\n",
    "    if b == 0:\n",
    "        raise ValueError(\"Division by zero is not allowed.\")\n",
    "    return a / b\n",
    "\n",
    "# Example usage:\n",
    "try:\n",
    "    result = divide_numbers(10, 2)\n",
    "    print(\"Result:\", result)\n",
    "    \n",
    "    result = divide_numbers(10, 0)  # This will raise a ValueError\n",
    "    print(\"Result:\", result)       # This line won't be executed\n",
    "except ValueError as e:\n",
    "    print(\"Error:\", str(e))\n"
   ]
  },
  {
   "cell_type": "markdown",
   "id": "250c21c9",
   "metadata": {},
   "source": [
    "Q5. What are custom Exceptions in python? Why do we need Custom Exceptions? Explain with example."
   ]
  },
  {
   "cell_type": "markdown",
   "id": "34e4d3ea",
   "metadata": {},
   "source": [
    "Answer: Custom exceptions help us create exceptions as per our requirements. This helps in giving more meaningful and descriptive error messages. These are generally created to bring more clarity and code readability. \n",
    "\n",
    "We need custom exception because of the following Reasons:\n",
    "a. This makes the program more meaning full as the user can be guided properly.\n",
    "b. Code gives more clarity and the readability increases.\n",
    "c. For bigger programs, it can enhance the entire error handling process."
   ]
  },
  {
   "cell_type": "code",
   "execution_count": 33,
   "id": "8ae4ce4a",
   "metadata": {},
   "outputs": [
    {
     "name": "stdout",
     "output_type": "stream",
     "text": [
      "Square root: 5.0\n",
      "Error: Negative numbers not allowed.\n"
     ]
    }
   ],
   "source": [
    "# Define a custom exception without using a class\n",
    "class InvalidInputError(ValueError):\n",
    "    pass\n",
    "\n",
    "def calculate_square_root(number):\n",
    "    if number < 0:\n",
    "        raise InvalidInputError(\"Negative numbers not allowed.\")\n",
    "    return number ** 0.5\n",
    "\n",
    "# testing the above program\n",
    "try:\n",
    "    result = calculate_square_root(25)\n",
    "    print(\"Square root:\", result)\n",
    "\n",
    "    result = calculate_square_root(-16)  \n",
    "    print(\"Square root:\", result)        \n",
    "except InvalidInputError as e:\n",
    "    print(\"Error:\", str(e))\n"
   ]
  },
  {
   "cell_type": "markdown",
   "id": "2d086137",
   "metadata": {},
   "source": [
    "Q6. Create a custom exception class. Use this class to handle an exception."
   ]
  },
  {
   "cell_type": "code",
   "execution_count": 34,
   "id": "207aae01",
   "metadata": {},
   "outputs": [
    {
     "name": "stdout",
     "output_type": "stream",
     "text": [
      "Square root: 5.0\n",
      "Error: Negative numbers not allowed: -16\n"
     ]
    }
   ],
   "source": [
    "#Answer:\n",
    "\n",
    "class NegativeNumberError(ValueError):\n",
    "    def __init__(self, number):\n",
    "        self.number = number\n",
    "        super().__init__(f\"Negative numbers not allowed: {number}\")\n",
    "\n",
    "def calculate_square_root(number):\n",
    "    if number < 0:\n",
    "        raise NegativeNumberError(number)\n",
    "    return number ** 0.5\n",
    "\n",
    "# Example usage:\n",
    "try:\n",
    "    result = calculate_square_root(25)\n",
    "    print(\"Square root:\", result)\n",
    "    \n",
    "    result = calculate_square_root(-16)\n",
    "    print(\"Square root:\", result)       \n",
    "except NegativeNumberError as e:\n",
    "    print(\"Error:\", str(e))\n"
   ]
  }
 ],
 "metadata": {
  "kernelspec": {
   "display_name": "Python 3 (ipykernel)",
   "language": "python",
   "name": "python3"
  },
  "language_info": {
   "codemirror_mode": {
    "name": "ipython",
    "version": 3
   },
   "file_extension": ".py",
   "mimetype": "text/x-python",
   "name": "python",
   "nbconvert_exporter": "python",
   "pygments_lexer": "ipython3",
   "version": "3.9.13"
  }
 },
 "nbformat": 4,
 "nbformat_minor": 5
}
