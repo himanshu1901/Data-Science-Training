{
 "cells": [
  {
   "cell_type": "markdown",
   "id": "54683401-9409-49eb-9e18-4cb364a48f7a",
   "metadata": {},
   "source": [
    "Q1. How do you comment code in Python? What are the different types of comments?"
   ]
  },
  {
   "cell_type": "markdown",
   "id": "02469926-8df5-46a2-ab6a-c780a96051d2",
   "metadata": {},
   "source": [
    "Answer to question 1 – Commenting any code in python is very simple and easy. On how to comment a code, it depends on the type of code. Normally there are three types of comment as described below.\n",
    "a.\tSingle-line comment – It is used to comment a single line code. It can be a python code or normal description of any code in a single line. Single line codes are placed using a # sign at the beginning of the code and it can also be places using the ctrl + “/” button as shortcut.\n",
    "b.\tMultiline comment – Multi-line comments are usually used when the comments are generally long and goes to multi lines. These are placed using three apostrophe’s (“”” “””)  at the beginning and at the end.\n",
    "c.\tDoc-strings – Docstrings are used while defining a function. These are placed right after the function name to describe a function and can be placed just like multi-line comment.\n"
   ]
  },
  {
   "cell_type": "markdown",
   "id": "2dd80a9c-c6ba-42ee-82bb-1851c06e86d4",
   "metadata": {},
   "source": [
    "Q2. What are variables in Python? How do you declare and assign values to variables?"
   ]
  },
  {
   "cell_type": "markdown",
   "id": "b33c113e-883c-4ee3-b445-a174cfc1526b",
   "metadata": {},
   "source": [
    "Answer to question 2 – Variables are pointers to a certain objects like strings, lists, functions etc. This is like naming a particular object and that object can be called in the code using just that name. For example \n",
    "A = “python”\n",
    "Here. A is a variable pointing to a string.\n",
    "= sign is used as assignment operator which is used to assign a variable to an object as shown above.\n"
   ]
  },
  {
   "cell_type": "markdown",
   "id": "2cf427df-ec18-4d2b-b1ad-b11f7a276b6e",
   "metadata": {},
   "source": [
    "Q3. How do you convert one data type to another in Python?"
   ]
  },
  {
   "cell_type": "markdown",
   "id": "23ea99f3-56c9-43e0-95ae-56742ea17a79",
   "metadata": {},
   "source": [
    "Answer to question 3 – Generally, this process is known as typecasting where one variable is casted to another using respective method. \n",
    "Below are some of the examples:\n",
    "a.\tInt()  - This method is used to typecast something to integer.\n",
    "b.\tStr() – This method is used to typecast something to string.\n",
    "c.\tFloat () – This method is used to typecast something to string.\n",
    "We need to keep in mind that we cannot do irrelevant assignment. For example we cannot typecast a text string to integer. Suppose if we do as per the below :\n",
    "A = “Himalaya”\n",
    "B = int(A)\n",
    "The above assignment is incorrect as alphabets cannot be converted to integers.\n"
   ]
  },
  {
   "cell_type": "markdown",
   "id": "eb961131-0c88-4e29-b260-122edc74229b",
   "metadata": {},
   "source": [
    "Q4. How do you write and execute a Python script from the command line?"
   ]
  },
  {
   "cell_type": "markdown",
   "id": "56a3d591-0ab2-477a-9203-d6cbe92c80e7",
   "metadata": {},
   "source": [
    "Answer to question 4 – Command line is the text based interfaced which lets you code directly using the operating system. For writing the python script directly from command line, type python including its version. For example, for python 3 type python3. \n",
    "If the script is saved already into a different file, type the path of the location of the file and press enter. \n",
    "For printing codes like print(“Hello World”), you can type this and press enter. The code will run.\n"
   ]
  },
  {
   "cell_type": "markdown",
   "id": "8bc05762-bdc7-45c4-9a73-5d740979f16a",
   "metadata": {},
   "source": [
    "Q5. Given a list my_list = [1, 2, 3, 4, 5], write the code to slice the list and obtain the sub-list [2, 3]."
   ]
  },
  {
   "cell_type": "code",
   "execution_count": 2,
   "id": "abeb46fa-597f-4478-9121-fbca6b32038d",
   "metadata": {},
   "outputs": [
    {
     "data": {
      "text/plain": [
       "[2, 3]"
      ]
     },
     "execution_count": 2,
     "metadata": {},
     "output_type": "execute_result"
    }
   ],
   "source": [
    "my_list = [1, 2, 3, 4, 5]\n",
    "my_list[1:3]\n"
   ]
  },
  {
   "cell_type": "markdown",
   "id": "23d94bf5-992e-4d39-a5d5-289a7163ee4f",
   "metadata": {},
   "source": [
    "Q6. What is a complex number in mathematics, and how is it represented in Python?"
   ]
  },
  {
   "cell_type": "markdown",
   "id": "d4cc7916-d97d-43ef-81c0-b5cfcc641ae3",
   "metadata": {},
   "source": [
    "Answer to question 6 – Complex numbers are two numbers added together where one is a real number and another is an imaginary number is represented as a+ib in mathematics however in python it is represented as a+bj where a and b are real number and j is an imaginary number."
   ]
  },
  {
   "cell_type": "markdown",
   "id": "f3bb492b-f867-496d-951e-49bb1624b879",
   "metadata": {},
   "source": [
    "Q7. What is the correct way to declare a variable named age and assign the value 25 to it?"
   ]
  },
  {
   "cell_type": "code",
   "execution_count": 4,
   "id": "a5ef5679-aa64-4f5f-97c9-137bd8efd07d",
   "metadata": {},
   "outputs": [],
   "source": [
    "Age = 25"
   ]
  },
  {
   "cell_type": "markdown",
   "id": "48a95031-ea9b-4c4a-87d8-49f937892ff2",
   "metadata": {},
   "source": [
    "Q8. Declare a variable named price and assign the value 9.99 to it. What data type does this variable belong to?"
   ]
  },
  {
   "cell_type": "code",
   "execution_count": 5,
   "id": "e81c253c-69ae-4238-992b-6e5f32bdb0b6",
   "metadata": {},
   "outputs": [
    {
     "data": {
      "text/plain": [
       "float"
      ]
     },
     "execution_count": 5,
     "metadata": {},
     "output_type": "execute_result"
    }
   ],
   "source": [
    "price = 9.99\n",
    "type(price)"
   ]
  },
  {
   "cell_type": "markdown",
   "id": "fdbd286b-018f-440c-934b-68047d4a178f",
   "metadata": {},
   "source": [
    "Q9. Create a variable named name and assign your full name to it as a string. How would you print the value of this variable?"
   ]
  },
  {
   "cell_type": "code",
   "execution_count": 8,
   "id": "1bd6bd07-0702-43d1-8db5-a9f549a9cac7",
   "metadata": {},
   "outputs": [
    {
     "name": "stdout",
     "output_type": "stream",
     "text": [
      "Himanshu Srivastav\n"
     ]
    }
   ],
   "source": [
    "name = \"Himanshu Srivastav\"\n",
    "print(name)"
   ]
  },
  {
   "cell_type": "markdown",
   "id": "542a4331-733d-4d77-8bbe-a76ab5bfa038",
   "metadata": {},
   "source": [
    "Q10. Given the string \"Hello, World!\", extract the substring \"World\"."
   ]
  },
  {
   "cell_type": "code",
   "execution_count": null,
   "id": "e538a799-cb3f-4b9e-98e2-aa404c294ec2",
   "metadata": {},
   "outputs": [],
   "source": [
    "a = \"Hello World!\"\n",
    "a[]"
   ]
  }
 ],
 "metadata": {
  "kernelspec": {
   "display_name": "Python 3 (ipykernel)",
   "language": "python",
   "name": "python3"
  },
  "language_info": {
   "codemirror_mode": {
    "name": "ipython",
    "version": 3
   },
   "file_extension": ".py",
   "mimetype": "text/x-python",
   "name": "python",
   "nbconvert_exporter": "python",
   "pygments_lexer": "ipython3",
   "version": "3.10.8"
  }
 },
 "nbformat": 4,
 "nbformat_minor": 5
}
