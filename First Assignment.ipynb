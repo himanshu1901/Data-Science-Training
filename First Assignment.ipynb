{
 "cells": [
  {
   "cell_type": "markdown",
   "id": "f77591bf-bdcd-4525-8cc0-9bf1b5377a0b",
   "metadata": {},
   "source": [
    "Q1. Create one variable containing following type of Data."
   ]
  },
  {
   "cell_type": "code",
   "execution_count": 1,
   "id": "f7afd87f-76bc-424e-ae29-77f4a2716855",
   "metadata": {},
   "outputs": [
    {
     "name": "stdout",
     "output_type": "stream",
     "text": [
      "<class 'str'>\n",
      "<class 'list'>\n",
      "<class 'float'>\n",
      "<class 'tuple'>\n"
     ]
    }
   ],
   "source": [
    "# (i)String\n",
    "name = \"Himanshu\"\n",
    "print(type(name))\n",
    "\n",
    "#(ii) list\n",
    "states = [\"uttarakhand\",\"Bihar\",\"Orrisa\",\"Sikkim\",\"Goa\"]\n",
    "print(type(states))\n",
    "\n",
    "#(iii) Float\n",
    "price = 29.50\n",
    "print(type(price))\n",
    "\n",
    "#(iv)tuple\n",
    "item = (\"Banana\",\"Apple\",\"Orange\",\"Kiwi\",\"Grapes\")\n",
    "print(type(item))\n"
   ]
  },
  {
   "cell_type": "markdown",
   "id": "bbe8845f-2ecb-4af6-aa6f-17eac504a75a",
   "metadata": {},
   "source": [
    "Q2. Given are some following variables containing data.\n",
    "What will be the data type of the above given variable."
   ]
  },
  {
   "cell_type": "code",
   "execution_count": 4,
   "id": "1aa5ae2d-2645-4a02-8bee-8bfe757db818",
   "metadata": {},
   "outputs": [
    {
     "name": "stdout",
     "output_type": "stream",
     "text": [
      "<class 'str'>\n",
      "<class 'str'>\n",
      "<class 'list'>\n",
      "<class 'float'>\n"
     ]
    }
   ],
   "source": [
    "#(i)\n",
    "var1 = \"\"\n",
    "print(type(var1))\n",
    "\n",
    "#(ii)\n",
    "var2 = '[DS,ML,Python]'\n",
    "print(type(var2))\n",
    "\n",
    "#(iii)\n",
    "var3 = ['DS','ML','Python']\n",
    "print(type(var3))\n",
    "\n",
    "#(iv)\n",
    "var4 = 1.\n",
    "print(type(var4))"
   ]
  },
  {
   "cell_type": "markdown",
   "id": "44a4160b-feba-47f8-8d0a-3d0cb3528146",
   "metadata": {},
   "source": [
    "Q3. Explain the use of the following operator using an example:"
   ]
  },
  {
   "cell_type": "code",
   "execution_count": 5,
   "id": "d43b8715-8413-4e55-b776-f96e1f9ce370",
   "metadata": {},
   "outputs": [
    {
     "name": "stdout",
     "output_type": "stream",
     "text": [
      "2.0\n",
      "1\n",
      "2\n",
      "8\n"
     ]
    }
   ],
   "source": [
    "#(i)\n",
    "a = 100/50\n",
    "print(a)\n",
    "\n",
    "#It is used for division. It will have decimal values if applicable.\n",
    "\n",
    "#(ii)\n",
    "b = 25%2\n",
    "print(b)\n",
    "\n",
    "# This will present the remainder after division.\n",
    "\n",
    "#(iii)\n",
    "b = 100//50\n",
    "print(b)\n",
    "\n",
    "# This will remove the decimal values and will round off\n",
    "\n",
    "#(iv)\n",
    "c = 2**3\n",
    "print(c)\n",
    "\n",
    "# ** works as power. The above variable c will print 2 to the power of 3\n"
   ]
  },
  {
   "cell_type": "markdown",
   "id": "0ce241ac-166c-4cb0-ba4b-a4a20414d606",
   "metadata": {},
   "source": [
    "Q4. Create a list of length 10 of oyur choice containing multiple types of data. Using for loop print the element and its data type."
   ]
  },
  {
   "cell_type": "code",
   "execution_count": 6,
   "id": "a8154989-b72c-4366-be3e-7043cddf166f",
   "metadata": {},
   "outputs": [
    {
     "name": "stdout",
     "output_type": "stream",
     "text": [
      "python\n",
      "<class 'str'>\n",
      "javascript\n",
      "<class 'str'>\n",
      "25\n",
      "<class 'int'>\n",
      "79\n",
      "<class 'int'>\n",
      "['ayodhya', 'varanasi', 'Mathura']\n",
      "<class 'list'>\n",
      "{'Himanshu:Student'}\n",
      "<class 'set'>\n",
      "(6+5j)\n",
      "<class 'complex'>\n",
      "('Bottle', 'tiffin', 'bag')\n",
      "<class 'tuple'>\n",
      "46.5\n",
      "<class 'float'>\n",
      "89\n",
      "<class 'int'>\n"
     ]
    }
   ],
   "source": [
    "list = [\"python\",\"javascript\",25, 79, [\"ayodhya\", \"varanasi\",\"Mathura\"], {\"Himanshu:Student\"},6+5j,(\"Bottle\",\"tiffin\",\"bag\"),46.50, 89]\n",
    "for i in list:\n",
    "    print(i)\n",
    "    print(type(i))"
   ]
  },
  {
   "cell_type": "markdown",
   "id": "e5cf6449-d4b7-4153-99d9-7979b1d93d5f",
   "metadata": {},
   "source": [
    "Q5.Using a while loop, verify if the number A is purily divisible by number B and if so then how many times it can be divisible."
   ]
  },
  {
   "cell_type": "code",
   "execution_count": 7,
   "id": "0d6355b8-4a0f-48a3-8aaf-f3b9caa43e74",
   "metadata": {},
   "outputs": [
    {
     "name": "stdin",
     "output_type": "stream",
     "text": [
      "Enter the value of A:  5\n",
      "Enter the value of B:  2\n"
     ]
    },
    {
     "name": "stdout",
     "output_type": "stream",
     "text": [
      "A is not divisible by B.\n"
     ]
    }
   ],
   "source": [
    "A = int(input(\"Enter the value of A: \"))\n",
    "B = int(input(\"Enter the value of B: \"))\n",
    "\n",
    "count = 0\n",
    "while A % B == 0:\n",
    "    A = A // B\n",
    "    count += 1\n",
    "\n",
    "if count > 0:\n",
    "    print(f\"A is divisible by B {count} times.\")\n",
    "else:\n",
    "    print(\"A is not divisible by B.\")\n"
   ]
  },
  {
   "cell_type": "markdown",
   "id": "d400539b-4205-4d8a-b72e-0192cdc1728e",
   "metadata": {},
   "source": [
    "Q6. Create a list containing 25 int type data. Using for loop and if-else condition print if the element is\n",
    "divisible by 3 or not."
   ]
  },
  {
   "cell_type": "code",
   "execution_count": null,
   "id": "48c56d75-b0a5-46ea-bcb0-bbf1ed276712",
   "metadata": {},
   "outputs": [],
   "source": [
    "m = [12,33,6,65,26,24,52,63,66,33,93,99,102,105,25,30,60,88,52,88,77,78,89,66,3]\n",
    "print(len(m), \"- total integers in the list\")\n",
    "for i in m:\n",
    "    if i%3==0:\n",
    "        print(f\"{i} is divisible by 3\")\n",
    "    else:\n",
    "        print(f\"{i} is not divisible by 3\")"
   ]
  },
  {
   "cell_type": "markdown",
   "id": "140b9484-5eba-46ed-95e3-a8cd6661381b",
   "metadata": {},
   "source": [
    "Q7. What do you understand about mutable and immutable data types? Give examples for both showing\n",
    "this property."
   ]
  },
  {
   "cell_type": "markdown",
   "id": "57c15f24-ea16-4993-9bac-d5f855417c76",
   "metadata": {},
   "source": [
    "Answer - Mutable data types are the ones which can be edited/appended for example - list, dictionary etc.\n",
    "Mutable data type items do not change their memory location/ID when they are appended/edited. They store the value in the same place/ID. Below code shows this through example. "
   ]
  },
  {
   "cell_type": "code",
   "execution_count": 10,
   "id": "9ab16962-9303-4378-862c-376567034308",
   "metadata": {},
   "outputs": [
    {
     "name": "stdout",
     "output_type": "stream",
     "text": [
      "140421138786432\n",
      "['banana', 'apple', 'orange', 'grapes']\n",
      "140421138786432\n"
     ]
    }
   ],
   "source": [
    "list = [\"banana\",\"apple\",\"orange\",]\n",
    "print(id(list))\n",
    "list.append(\"grapes\")\n",
    "print(list)\n",
    "print(id(list))\n",
    "\n",
    "#this is an example of mutable data type where the ID remains the same even after modifying the actual list."
   ]
  },
  {
   "cell_type": "markdown",
   "id": "3af8f851-57d8-471f-8c17-524027a624f7",
   "metadata": {},
   "source": [
    "Immutable data types are the ones which cannot be edited/appended for example - tuples,integers, strings etc. "
   ]
  },
  {
   "cell_type": "code",
   "execution_count": null,
   "id": "f6f05b2e-7709-4278-a9db-d4a0a8856572",
   "metadata": {},
   "outputs": [],
   "source": [
    "a = 20\n",
    "print(id(a))\n",
    "a += 9\n",
    "print(id(a))\n",
    "\n",
    "#this is an example of immutable. It shows that on making any changes, it creates a new object instead of modifying the exiting value."
   ]
  },
  {
   "cell_type": "code",
   "execution_count": null,
   "id": "9a6754ff-a26f-4785-a5d7-da36c9251498",
   "metadata": {},
   "outputs": [],
   "source": []
  }
 ],
 "metadata": {
  "kernelspec": {
   "display_name": "Python 3 (ipykernel)",
   "language": "python",
   "name": "python3"
  },
  "language_info": {
   "codemirror_mode": {
    "name": "ipython",
    "version": 3
   },
   "file_extension": ".py",
   "mimetype": "text/x-python",
   "name": "python",
   "nbconvert_exporter": "python",
   "pygments_lexer": "ipython3",
   "version": "3.10.8"
  }
 },
 "nbformat": 4,
 "nbformat_minor": 5
}
