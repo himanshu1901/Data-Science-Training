{
 "cells": [
  {
   "cell_type": "markdown",
   "id": "d21dec29",
   "metadata": {},
   "source": [
    "Q1. Explain Class and Object with respect to Object-Oriented Programming. Give a suitable example."
   ]
  },
  {
   "cell_type": "markdown",
   "id": "4680fe42",
   "metadata": {},
   "source": [
    "Answer :- Class : Class is a template for creating objects. It defines the properties or attributes (variable) and methods(functions) that characterize any object created. Class is used to define the structure of the objects.\n",
    "\n",
    "Below is the example of the class Dog :\n"
   ]
  },
  {
   "cell_type": "code",
   "execution_count": 2,
   "id": "36c1331c",
   "metadata": {},
   "outputs": [],
   "source": [
    "class Dog:\n",
    "    def __init__(self, name, breed, age):\n",
    "        self.name = name\n",
    "        self.breed = breed\n",
    "        self.age = age\n",
    "        \n",
    "    def Run(self):\n",
    "        print(\"the dog is running very fast\")\n"
   ]
  },
  {
   "cell_type": "markdown",
   "id": "7af65dae",
   "metadata": {},
   "source": [
    "Objects – Objects are instances of the class. For example, from the above example of the Class Dog, any Dog can be its object which has name, breed and age etc. So, Objects are like instances of the class which has same properties and attributes.\n",
    "Below is the example for the Object related to the Dog class:\n"
   ]
  },
  {
   "cell_type": "code",
   "execution_count": 4,
   "id": "ed146598",
   "metadata": {},
   "outputs": [],
   "source": [
    "Dobby = Dog(\"Dobby\",\"Labra\",5)"
   ]
  },
  {
   "cell_type": "code",
   "execution_count": 7,
   "id": "40e81df7",
   "metadata": {},
   "outputs": [
    {
     "data": {
      "text/plain": [
       "'Labra'"
      ]
     },
     "execution_count": 7,
     "metadata": {},
     "output_type": "execute_result"
    }
   ],
   "source": [
    "Dobby.breed"
   ]
  },
  {
   "cell_type": "code",
   "execution_count": null,
   "id": "c18f04c4",
   "metadata": {},
   "outputs": [],
   "source": []
  },
  {
   "cell_type": "markdown",
   "id": "de71ece2",
   "metadata": {},
   "source": [
    "Q2. Name the four pillars of OOPs."
   ]
  },
  {
   "cell_type": "markdown",
   "id": "12d1c051",
   "metadata": {},
   "source": [
    "Answer – The four pillars of OOPs are :\n",
    "a.\tEncapsulation\n",
    "b.\tAbstraction\n",
    "c.\tInheritance\n",
    "d.\tPolymorphism\n"
   ]
  },
  {
   "cell_type": "markdown",
   "id": "5a700ad6",
   "metadata": {},
   "source": [
    "Q3. Explain why the __init__() function is used. Give a suitable example."
   ]
  },
  {
   "cell_type": "markdown",
   "id": "e8a41f30",
   "metadata": {},
   "source": [
    "Answer - __init__ is used as a constructor is Object Oriented programming. It initializes the attributes of an object within a class. For example, if an object like car has attributes like make, manufacturer, top speed etc, these will be created as shown in below example:"
   ]
  },
  {
   "cell_type": "code",
   "execution_count": 9,
   "id": "daf40539",
   "metadata": {},
   "outputs": [],
   "source": [
    "class car:\n",
    "    def __init__(self, make, manufacturer, top_speed):\n",
    "        self.make = make\n",
    "        self.manufacturer = manufacturer\n",
    "        self.top_speed = top_speed\n"
   ]
  },
  {
   "cell_type": "markdown",
   "id": "81f0eee1",
   "metadata": {},
   "source": [
    "Q4. Why self is used in OOPs?\t"
   ]
  },
  {
   "cell_type": "markdown",
   "id": "ddcf3df6",
   "metadata": {},
   "source": [
    "Answer: self is used to access the attributes and methods of a class. All the variables assigned to a class are binded to the class itself using the self.  It represents an instance of the given class.  Usually we write the code as below:"
   ]
  },
  {
   "cell_type": "code",
   "execution_count": 11,
   "id": "d05001d8",
   "metadata": {},
   "outputs": [],
   "source": [
    "class car:\n",
    "    def __init__(self, make, manufacturer, top_speed):\n",
    "        self.make = make\n",
    "        self.manufacturer = manufacturer\n",
    "        self.top_speed = top_speed\n"
   ]
  },
  {
   "cell_type": "markdown",
   "id": "01184a7f",
   "metadata": {},
   "source": [
    "In the above example code, the make, manufacturer, top_speed is referenced to the car class using the self. "
   ]
  },
  {
   "cell_type": "markdown",
   "id": "ad073ac9",
   "metadata": {},
   "source": [
    "Q5. What is inheritance? Give an example for each type of inheritance."
   ]
  },
  {
   "cell_type": "markdown",
   "id": "e747198a",
   "metadata": {},
   "source": [
    "Answer: Inheritance allows a class to inherit the properties of another class. As we write programmes, we some times create parent and child class in which we make use of the inheritance to inherit the properties from Parent to child class. "
   ]
  },
  {
   "cell_type": "code",
   "execution_count": null,
   "id": "09870592",
   "metadata": {},
   "outputs": [],
   "source": []
  },
  {
   "cell_type": "markdown",
   "id": "47b33fde",
   "metadata": {},
   "source": [
    "Multilevel Inheritance: Let’s understand this with example, so suppose there a class bike which is inherited by class car which is inherited by class truck so, In multilabel inheritance, class bike is automatically inherited by class truck. This is known as Multilabel inheritance. Below is a different example of the Multilevel Inheritance:"
   ]
  },
  {
   "cell_type": "code",
   "execution_count": 14,
   "id": "af1887eb",
   "metadata": {},
   "outputs": [],
   "source": [
    "class Grandfather:\n",
    "    def Grandfather_money():\n",
    "        print(\"All the money will be given to the child later\")"
   ]
  },
  {
   "cell_type": "code",
   "execution_count": 16,
   "id": "f3112b31",
   "metadata": {},
   "outputs": [],
   "source": [
    "class father(Grandfather):\n",
    "    def wealthy_father():\n",
    "        print(\"Now, father is very rich\")"
   ]
  },
  {
   "cell_type": "code",
   "execution_count": 19,
   "id": "f058bc5f",
   "metadata": {},
   "outputs": [],
   "source": [
    "class son(father):\n",
    "    def richie_son():\n",
    "        print(\"Finally son enjoys the life\")"
   ]
  },
  {
   "cell_type": "code",
   "execution_count": 21,
   "id": "d67013dd",
   "metadata": {},
   "outputs": [],
   "source": [
    "son_obj = son()"
   ]
  },
  {
   "cell_type": "markdown",
   "id": "38074d57",
   "metadata": {},
   "source": [
    "If we now perform any action with the son class, it will have the properties from preceding classes."
   ]
  },
  {
   "cell_type": "markdown",
   "id": "fc4400e2",
   "metadata": {},
   "source": [
    "Multiple Inheritance: Through the concept of multiple Inheritance, we can access the properties of multiple classes into another class. Lets see the below example understand better."
   ]
  },
  {
   "cell_type": "code",
   "execution_count": 23,
   "id": "075dcd17",
   "metadata": {},
   "outputs": [],
   "source": [
    "class Rohan:\n",
    "    def sports():\n",
    "        print(\"Rohan is an opening batsman\")"
   ]
  },
  {
   "cell_type": "code",
   "execution_count": 25,
   "id": "a4939c69",
   "metadata": {},
   "outputs": [],
   "source": [
    "class Shubham:\n",
    "    def Dance():\n",
    "        print(\"Shubham takes part in the annual function dance competition\")"
   ]
  },
  {
   "cell_type": "code",
   "execution_count": 27,
   "id": "486b2181",
   "metadata": {},
   "outputs": [],
   "source": [
    "class Kartik(Rohan, Shubham):\n",
    "    pass"
   ]
  },
  {
   "cell_type": "markdown",
   "id": "ad3b2454",
   "metadata": {},
   "source": [
    "Above example reflects a case of Multiple Inheritance"
   ]
  }
 ],
 "metadata": {
  "kernelspec": {
   "display_name": "Python 3 (ipykernel)",
   "language": "python",
   "name": "python3"
  },
  "language_info": {
   "codemirror_mode": {
    "name": "ipython",
    "version": 3
   },
   "file_extension": ".py",
   "mimetype": "text/x-python",
   "name": "python",
   "nbconvert_exporter": "python",
   "pygments_lexer": "ipython3",
   "version": "3.9.13"
  }
 },
 "nbformat": 4,
 "nbformat_minor": 5
}
